{
 "cells": [
  {
   "cell_type": "code",
   "execution_count": 1,
   "metadata": {},
   "outputs": [],
   "source": [
    "import numpy as np"
   ]
  },
  {
   "cell_type": "code",
   "execution_count": 4,
   "metadata": {},
   "outputs": [],
   "source": [
    "n = np.random.randn(30)"
   ]
  },
  {
   "cell_type": "code",
   "execution_count": 5,
   "metadata": {},
   "outputs": [
    {
     "data": {
      "text/plain": [
       "array([ 1.84596264, -0.55813833, -1.01498772, -1.75469304,  1.68407604,\n",
       "       -1.19500276,  0.53517695, -1.91711117,  0.12094332, -1.12938342,\n",
       "        1.25166407,  0.57207474,  0.80019257,  0.22239288,  1.05507251,\n",
       "        0.80035726,  0.06689196, -0.42307757, -0.67419097, -0.04606622,\n",
       "       -1.60634031,  0.41366576, -0.16385573,  1.1343548 , -0.59291227,\n",
       "        0.46370336,  0.53253475,  0.076045  , -1.00040439,  0.18732828])"
      ]
     },
     "execution_count": 5,
     "metadata": {},
     "output_type": "execute_result"
    }
   ],
   "source": [
    "n"
   ]
  },
  {
   "cell_type": "code",
   "execution_count": 6,
   "metadata": {},
   "outputs": [
    {
     "data": {
      "text/plain": [
       "3.763073808665406"
      ]
     },
     "execution_count": 6,
     "metadata": {},
     "output_type": "execute_result"
    }
   ],
   "source": [
    "np.max(n) - np.min(n)"
   ]
  },
  {
   "cell_type": "code",
   "execution_count": 8,
   "metadata": {},
   "outputs": [],
   "source": [
    "#inter quartile range needs to be find\n",
    "#25% 50% 75%\n",
    "#q1 q2 q3"
   ]
  },
  {
   "cell_type": "code",
   "execution_count": 9,
   "metadata": {},
   "outputs": [],
   "source": [
    "q1 = np.percentile(n,25)   #quartile 1"
   ]
  },
  {
   "cell_type": "code",
   "execution_count": 10,
   "metadata": {},
   "outputs": [],
   "source": [
    "q2 = np.percentile(n,50)   #quartile 2"
   ]
  },
  {
   "cell_type": "code",
   "execution_count": 11,
   "metadata": {},
   "outputs": [],
   "source": [
    "q3 = np.percentile(n,75)   #quartile 3"
   ]
  },
  {
   "cell_type": "code",
   "execution_count": 12,
   "metadata": {},
   "outputs": [],
   "source": [
    "#inter quartile range\n",
    "iqr = q3-q1"
   ]
  },
  {
   "cell_type": "code",
   "execution_count": 13,
   "metadata": {},
   "outputs": [],
   "source": [
    "#variance\n",
    "#how far data is away from the mean"
   ]
  },
  {
   "cell_type": "code",
   "execution_count": 14,
   "metadata": {},
   "outputs": [],
   "source": [
    "population = np.random.randn(100)"
   ]
  },
  {
   "cell_type": "code",
   "execution_count": 16,
   "metadata": {},
   "outputs": [
    {
     "data": {
      "text/plain": [
       "array([-0.78944799, -0.33777599,  0.30241092, -0.76050254,  0.58007353,\n",
       "        1.96502327,  1.44400628,  0.98875706,  0.26286311,  1.11066678,\n",
       "        0.31210785,  0.11091867,  0.05562595,  1.5897745 , -1.39161119,\n",
       "        1.10786445, -1.65048919,  0.06283076,  0.41916773, -0.11326962,\n",
       "        1.58596964, -1.14883099, -1.29293757,  1.00677623,  1.12821124,\n",
       "       -0.09232969,  0.71662845,  0.44804451, -1.40825107, -0.15471231,\n",
       "        2.48141085,  0.23883485,  1.52234735, -0.06111784, -1.44573157,\n",
       "        0.98790955, -1.06932716, -0.62511901,  0.17072371, -0.77024615,\n",
       "        2.90608052,  0.86024071,  0.12060476,  0.65598495,  1.75122922,\n",
       "        0.39834174, -0.43163428,  1.0954645 , -0.28434313,  0.63081275,\n",
       "        0.54979314, -0.37525612,  0.9463771 ,  1.46689627, -0.0708298 ,\n",
       "       -0.10675307,  0.77616084, -0.3858383 ,  0.82046827,  0.27385951,\n",
       "       -0.353271  , -0.32734139, -0.39553028,  0.31935825,  0.94279621,\n",
       "        0.75988254, -0.34472287,  1.05963899,  0.46329345, -1.59426607,\n",
       "        2.19898654,  1.39116717,  0.27205745,  1.22226808,  0.11056735,\n",
       "        0.23277199,  1.03653619, -0.77141472, -0.12122448,  0.00732858,\n",
       "        0.23595632,  0.96604766,  0.52927681, -1.19372036,  3.36455358,\n",
       "       -1.10480915,  1.25192832,  0.97373434, -0.48222577, -1.20667624,\n",
       "       -0.43589998,  1.31560641, -0.34764442,  0.80520433, -0.32468517,\n",
       "       -1.07472377, -0.767692  ,  0.29375282, -0.20587778,  0.87854866])"
      ]
     },
     "execution_count": 16,
     "metadata": {},
     "output_type": "execute_result"
    }
   ],
   "source": [
    "population"
   ]
  },
  {
   "cell_type": "code",
   "execution_count": 17,
   "metadata": {},
   "outputs": [
    {
     "data": {
      "text/plain": [
       "array([-1.10480915,  0.58007353,  0.17072371,  0.46329345, -1.44573157,\n",
       "        1.31560641,  0.30241092, -0.32734139,  0.77616084,  2.48141085,\n",
       "       -0.33777599, -0.11326962,  0.29375282,  1.12821124, -0.39553028,\n",
       "       -0.43163428,  1.39116717, -0.12122448, -0.43589998,  0.65598495,\n",
       "       -0.353271  ,  1.75122922,  1.03653619,  1.52234735, -0.43589998,\n",
       "       -0.76050254, -1.39161119,  1.05963899,  0.65598495,  0.39834174])"
      ]
     },
     "execution_count": 17,
     "metadata": {},
     "output_type": "execute_result"
    }
   ],
   "source": [
    "sample = np.random.choice(population, 30)\n",
    "sample"
   ]
  },
  {
   "cell_type": "code",
   "execution_count": 18,
   "metadata": {},
   "outputs": [
    {
     "data": {
      "text/plain": [
       "0.9540694320161636"
      ]
     },
     "execution_count": 18,
     "metadata": {},
     "output_type": "execute_result"
    }
   ],
   "source": [
    "np.var(population)    #to find variance"
   ]
  },
  {
   "cell_type": "code",
   "execution_count": 19,
   "metadata": {},
   "outputs": [
    {
     "data": {
      "text/plain": [
       "0.8555911286381176"
      ]
     },
     "execution_count": 19,
     "metadata": {},
     "output_type": "execute_result"
    }
   ],
   "source": [
    "np.var(sample)"
   ]
  },
  {
   "cell_type": "code",
   "execution_count": 21,
   "metadata": {},
   "outputs": [],
   "source": [
    "# to find std deviation\n",
    "#std deviation gives more exact values as to how far data is from the mean"
   ]
  },
  {
   "cell_type": "code",
   "execution_count": 22,
   "metadata": {},
   "outputs": [
    {
     "data": {
      "text/plain": [
       "0.9767647782430341"
      ]
     },
     "execution_count": 22,
     "metadata": {},
     "output_type": "execute_result"
    }
   ],
   "source": [
    "np.std(population)"
   ]
  },
  {
   "cell_type": "code",
   "execution_count": 24,
   "metadata": {},
   "outputs": [
    {
     "data": {
      "text/plain": [
       "0.924981690974539"
      ]
     },
     "execution_count": 24,
     "metadata": {},
     "output_type": "execute_result"
    }
   ],
   "source": [
    "np.std(sample)"
   ]
  },
  {
   "cell_type": "code",
   "execution_count": null,
   "metadata": {},
   "outputs": [],
   "source": []
  }
 ],
 "metadata": {
  "kernelspec": {
   "display_name": "Python 3",
   "language": "python",
   "name": "python3"
  },
  "language_info": {
   "codemirror_mode": {
    "name": "ipython",
    "version": 3
   },
   "file_extension": ".py",
   "mimetype": "text/x-python",
   "name": "python",
   "nbconvert_exporter": "python",
   "pygments_lexer": "ipython3",
   "version": "3.6.4"
  }
 },
 "nbformat": 4,
 "nbformat_minor": 2
}
